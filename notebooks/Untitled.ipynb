{
 "cells": [
  {
   "cell_type": "code",
   "execution_count": 17,
   "id": "ad473dc5",
   "metadata": {},
   "outputs": [],
   "source": [
    "def get_sum(a,b):\n",
    "    if a == b:\n",
    "        return a\n",
    "    \n",
    "    l = sorted([a,b])\n",
    "    l = list(range(l[0],l[1]+1))\n",
    "    return sum(l)\n",
    "    "
   ]
  },
  {
   "cell_type": "code",
   "execution_count": 18,
   "id": "6148c54e",
   "metadata": {},
   "outputs": [],
   "source": [
    "import numpy as np"
   ]
  },
  {
   "cell_type": "code",
   "execution_count": 19,
   "id": "97c20c27",
   "metadata": {},
   "outputs": [
    {
     "name": "stdout",
     "output_type": "stream",
     "text": [
      "a:2; b:4;  sum:9\n",
      "a:3; b:0;  sum:6\n",
      "a:0; b:0;  sum:0\n",
      "a:4; b:0;  sum:10\n",
      "a:1; b:0;  sum:1\n",
      "a:4; b:1;  sum:10\n",
      "a:1; b:4;  sum:10\n",
      "a:4; b:4;  sum:4\n",
      "a:4; b:1;  sum:10\n",
      "a:4; b:3;  sum:7\n"
     ]
    }
   ],
   "source": [
    "for i in range(10):\n",
    "    a,b = np.random.randint(5,size=2)\n",
    "    print(f'a:{a}; b:{b};  sum:{get_sum(a,b)}')"
   ]
  },
  {
   "cell_type": "code",
   "execution_count": 28,
   "id": "57ffb02d",
   "metadata": {},
   "outputs": [
    {
     "data": {
      "text/plain": [
       "True"
      ]
     },
     "execution_count": 28,
     "metadata": {},
     "output_type": "execute_result"
    }
   ],
   "source": [
    "isinstance(1239,int)"
   ]
  },
  {
   "cell_type": "code",
   "execution_count": 32,
   "id": "bc77cc4e",
   "metadata": {},
   "outputs": [],
   "source": [
    "def validate_pin(pin):\n",
    "    return (isinstance(int(pin),int) and (len(pin)==4 or len(pin)==6))"
   ]
  },
  {
   "cell_type": "code",
   "execution_count": 37,
   "id": "b2c991f9",
   "metadata": {},
   "outputs": [
    {
     "data": {
      "text/plain": [
       "False"
      ]
     },
     "execution_count": 37,
     "metadata": {},
     "output_type": "execute_result"
    }
   ],
   "source": [
    "isinstance('246',int)"
   ]
  },
  {
   "cell_type": "code",
   "execution_count": null,
   "id": "16cbb41b",
   "metadata": {},
   "outputs": [],
   "source": []
  }
 ],
 "metadata": {
  "kernelspec": {
   "display_name": "Python 3 (ipykernel)",
   "language": "python",
   "name": "python3"
  },
  "language_info": {
   "codemirror_mode": {
    "name": "ipython",
    "version": 3
   },
   "file_extension": ".py",
   "mimetype": "text/x-python",
   "name": "python",
   "nbconvert_exporter": "python",
   "pygments_lexer": "ipython3",
   "version": "3.8.12"
  },
  "toc": {
   "base_numbering": 1,
   "nav_menu": {},
   "number_sections": true,
   "sideBar": true,
   "skip_h1_title": false,
   "title_cell": "Table of Contents",
   "title_sidebar": "Contents",
   "toc_cell": false,
   "toc_position": {},
   "toc_section_display": true,
   "toc_window_display": false
  }
 },
 "nbformat": 4,
 "nbformat_minor": 5
}
